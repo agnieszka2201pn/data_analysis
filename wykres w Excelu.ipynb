{
 "cells": [
  {
   "cell_type": "code",
   "execution_count": 1,
   "id": "eb0df50b",
   "metadata": {},
   "outputs": [
    {
     "data": {
      "text/html": [
       "<div>\n",
       "<style scoped>\n",
       "    .dataframe tbody tr th:only-of-type {\n",
       "        vertical-align: middle;\n",
       "    }\n",
       "\n",
       "    .dataframe tbody tr th {\n",
       "        vertical-align: top;\n",
       "    }\n",
       "\n",
       "    .dataframe thead th {\n",
       "        text-align: right;\n",
       "    }\n",
       "</style>\n",
       "<table border=\"1\" class=\"dataframe\">\n",
       "  <thead>\n",
       "    <tr style=\"text-align: right;\">\n",
       "      <th></th>\n",
       "      <th>A</th>\n",
       "      <th>B</th>\n",
       "      <th>C</th>\n",
       "    </tr>\n",
       "  </thead>\n",
       "  <tbody>\n",
       "    <tr>\n",
       "      <th>1</th>\n",
       "      <td>0</td>\n",
       "      <td>0</td>\n",
       "      <td>0</td>\n",
       "    </tr>\n",
       "    <tr>\n",
       "      <th>2</th>\n",
       "      <td>1</td>\n",
       "      <td>10</td>\n",
       "      <td>100</td>\n",
       "    </tr>\n",
       "    <tr>\n",
       "      <th>3</th>\n",
       "      <td>2</td>\n",
       "      <td>20</td>\n",
       "      <td>200</td>\n",
       "    </tr>\n",
       "    <tr>\n",
       "      <th>4</th>\n",
       "      <td>3</td>\n",
       "      <td>30</td>\n",
       "      <td>300</td>\n",
       "    </tr>\n",
       "    <tr>\n",
       "      <th>5</th>\n",
       "      <td>4</td>\n",
       "      <td>40</td>\n",
       "      <td>400</td>\n",
       "    </tr>\n",
       "    <tr>\n",
       "      <th>6</th>\n",
       "      <td>5</td>\n",
       "      <td>50</td>\n",
       "      <td>500</td>\n",
       "    </tr>\n",
       "  </tbody>\n",
       "</table>\n",
       "</div>"
      ],
      "text/plain": [
       "   A   B    C\n",
       "1  0   0    0\n",
       "2  1  10  100\n",
       "3  2  20  200\n",
       "4  3  30  300\n",
       "5  4  40  400\n",
       "6  5  50  500"
      ]
     },
     "execution_count": 1,
     "metadata": {},
     "output_type": "execute_result"
    }
   ],
   "source": [
    "import pandas as pd\n",
    "\n",
    "df4 = pd.DataFrame({'A': [0,1,2,3,4,5], 'B':[0, 10,20,30,40,50], \n",
    "                    'C': [0, 100,200, 300, 400, 500]}, index = [1,2,3,4,5,6])\n",
    "df4"
   ]
  },
  {
   "cell_type": "code",
   "execution_count": 2,
   "id": "f063c797",
   "metadata": {},
   "outputs": [],
   "source": [
    "writer = pd.ExcelWriter('add_chart.xlsx', engine='xlsxwriter')\n",
    "df4.to_excel(writer, sheet_name='my_chart')\n",
    "writer.save()"
   ]
  },
  {
   "cell_type": "code",
   "execution_count": 3,
   "id": "e5be02ab",
   "metadata": {},
   "outputs": [],
   "source": [
    "workbook = writer.book\n",
    "worksheet = writer.sheets['my_chart']"
   ]
  },
  {
   "cell_type": "code",
   "execution_count": 4,
   "id": "d585d645",
   "metadata": {},
   "outputs": [],
   "source": [
    "chart = workbook.add_chart({'type':'line'})"
   ]
  },
  {
   "cell_type": "code",
   "execution_count": 5,
   "id": "be75fb93",
   "metadata": {},
   "outputs": [],
   "source": [
    "chart.add_series({'categories':['my_chart', 0, 0, 6, 1],\n",
    "                 'values' : ['my_chart', 0, 1, 4, 1]})"
   ]
  },
  {
   "cell_type": "code",
   "execution_count": 6,
   "id": "5a0494e1",
   "metadata": {},
   "outputs": [],
   "source": [
    "chart.set_x_axis({\n",
    "    'name': 'x^2',\n",
    "    'name_font': {'size': 14, 'bold': True},\n",
    "    'num_font':  {'italic': True },\n",
    "})"
   ]
  },
  {
   "cell_type": "code",
   "execution_count": 8,
   "id": "0d8c7184",
   "metadata": {},
   "outputs": [
    {
     "name": "stderr",
     "output_type": "stream",
     "text": [
      "/home/agnieszka/.local/lib/python3.8/site-packages/xlsxwriter/worksheet.py:1515: UserWarning: Chart cannot be inserted in a worksheet more than once.\n",
      "  warn('Chart cannot be inserted in a worksheet more than once.')\n"
     ]
    }
   ],
   "source": [
    "worksheet.insert_chart('F2', chart)\n",
    "writer.save()\n",
    "workbook.close()"
   ]
  },
  {
   "cell_type": "code",
   "execution_count": null,
   "id": "bac19e8c",
   "metadata": {},
   "outputs": [],
   "source": []
  }
 ],
 "metadata": {
  "kernelspec": {
   "display_name": "Python 3",
   "language": "python",
   "name": "python3"
  },
  "language_info": {
   "codemirror_mode": {
    "name": "ipython",
    "version": 3
   },
   "file_extension": ".py",
   "mimetype": "text/x-python",
   "name": "python",
   "nbconvert_exporter": "python",
   "pygments_lexer": "ipython3",
   "version": "3.8.10"
  }
 },
 "nbformat": 4,
 "nbformat_minor": 5
}
