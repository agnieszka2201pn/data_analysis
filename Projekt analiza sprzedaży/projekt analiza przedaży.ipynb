{
 "cells": [
  {
   "cell_type": "code",
   "execution_count": 54,
   "id": "0a33a212",
   "metadata": {},
   "outputs": [],
   "source": [
    "import pandas as pd\n",
    "import datetime as dt\n",
    "import os\n",
    "import dash\n",
    "from dash import dcc\n",
    "from dash import html\n",
    "from dash.dependencies import Input, Output"
   ]
  },
  {
   "cell_type": "code",
   "execution_count": null,
   "id": "01babd7c",
   "metadata": {},
   "outputs": [],
   "source": [
    "class db:\n",
    "    def __init__(self):\n",
    "        self.transactions = db.transaction_init()\n",
    "        self.cc = pd.read_csv(r'db\\country_codes.csv', index_col=0)\n",
    "        self.customers = pd.read_csv(r'db\\customers.csv', index_col=0)\n",
    "        self.prod_info = pd.read_csv(r'db\\prod_cat_info.csv')\n",
    "        \n",
    "    @staticmethod\n",
    "    def transaction_init():\n",
    "        transactions = pd.DataFrame()\n",
    "        src = r'db\\transactions'\n",
    "        for filename in os.listdir(src):\n",
    "            transactions = transactions.append(pd.read_csv(os.path.join(src,filename),index_col=0))\n",
    "        \n",
    "    \n",
    "        def convert_dates(x):\n",
    "            try:\n",
    "                return dt.datetime.strptime(x, '%d-%m-%Y' )\n",
    "            except:\n",
    "                return dt.datetime.strptime(x, '%d/%m/%Y')\n",
    "\n",
    "    \n",
    "        transactions['tran_date'] = transactions['tran_date'].apply(lambda x: convert_dates(x))\n",
    "    \n",
    "        return transactions\n",
    "        \n",
    "        def merge(self):\n",
    "            df = self.transactions.join(self.prod_info.drop_duplicates(subset=['prod_cat_code']).set_index('prod_cat_code')['prod_cat'],on='prod_cat_code',how='left')\n",
    "\n",
    "            df = df.join(self.prod_info.drop_duplicates(subset=['prod_sub_cat_code']).set_index('prod_sub_cat_code')['prod_subcat'],on='prod_subcat_code',how='left')\n",
    "\n",
    "            df = df.join(self.customers.join(self.cc,on='country_code').set_index('customer_Id'),on='cust_id')\n",
    "\n",
    "            self.merged = df\n",
    "\n",
    "df = db()\n",
    "df.merge()\n",
    "        "
   ]
  },
  {
   "cell_type": "code",
   "execution_count": null,
   "id": "95c4ef44",
   "metadata": {},
   "outputs": [],
   "source": []
  },
  {
   "cell_type": "code",
   "execution_count": null,
   "id": "5116fbe6",
   "metadata": {},
   "outputs": [],
   "source": []
  },
  {
   "cell_type": "code",
   "execution_count": null,
   "id": "3ce9b117",
   "metadata": {},
   "outputs": [],
   "source": []
  },
  {
   "cell_type": "code",
   "execution_count": null,
   "id": "9705181a",
   "metadata": {},
   "outputs": [],
   "source": []
  }
 ],
 "metadata": {
  "kernelspec": {
   "display_name": "Python 3",
   "language": "python",
   "name": "python3"
  },
  "language_info": {
   "codemirror_mode": {
    "name": "ipython",
    "version": 3
   },
   "file_extension": ".py",
   "mimetype": "text/x-python",
   "name": "python",
   "nbconvert_exporter": "python",
   "pygments_lexer": "ipython3",
   "version": "3.8.10"
  }
 },
 "nbformat": 4,
 "nbformat_minor": 5
}
