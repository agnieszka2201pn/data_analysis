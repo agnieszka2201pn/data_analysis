{
 "cells": [
  {
   "cell_type": "code",
   "execution_count": null,
   "id": "81e90ad0",
   "metadata": {},
   "outputs": [],
   "source": [
    "import pandas as pd\n",
    "\n",
    "df = pd.DataFrame({'A': [0,1,2,3,4,5], 'B':[0, 10,20,30,40,50], \n",
    "                    'C': [0, 100,200, 300, 400, 500]}, index = [1,2,3,4,5,6])\n",
    "df"
   ]
  },
  {
   "cell_type": "code",
   "execution_count": 5,
   "id": "8b9401b2",
   "metadata": {},
   "outputs": [],
   "source": [
    "writer = pd.ExcelWriter('conditional_format.xlsx', engine ='xlsxwriter')\n",
    "df.to_excel(writer, sheet_name = 'my_conditional')\n",
    "workbook = writer.book\n",
    "worksheet = writer.sheets['my_conditional']"
   ]
  },
  {
   "cell_type": "code",
   "execution_count": 6,
   "id": "7f423a88",
   "metadata": {},
   "outputs": [],
   "source": [
    "format1 = workbook.add_format({'bg_color':   '#FFC7CE',\n",
    "                               'font_color': '#9C0006'})"
   ]
  },
  {
   "cell_type": "code",
   "execution_count": 9,
   "id": "93324efc",
   "metadata": {},
   "outputs": [
    {
     "data": {
      "text/plain": [
       "0"
      ]
     },
     "execution_count": 9,
     "metadata": {},
     "output_type": "execute_result"
    }
   ],
   "source": [
    "worksheet.conditional_format('C2:C6', {'type': 'cell',\n",
    "                                        'criteria': '>=',\n",
    "                                       'value':0, \n",
    "                                      'format': format1})"
   ]
  },
  {
   "cell_type": "code",
   "execution_count": 8,
   "id": "d57ec680",
   "metadata": {},
   "outputs": [
    {
     "name": "stderr",
     "output_type": "stream",
     "text": [
      "/home/agnieszka/.local/lib/python3.8/site-packages/xlsxwriter/workbook.py:339: UserWarning: Calling close() on already closed file.\n",
      "  warn(\"Calling close() on already closed file.\")\n"
     ]
    }
   ],
   "source": [
    "writer.save()\n",
    "workbook.close()"
   ]
  },
  {
   "cell_type": "code",
   "execution_count": null,
   "id": "25467d13",
   "metadata": {},
   "outputs": [],
   "source": []
  }
 ],
 "metadata": {
  "kernelspec": {
   "display_name": "Python 3",
   "language": "python",
   "name": "python3"
  },
  "language_info": {
   "codemirror_mode": {
    "name": "ipython",
    "version": 3
   },
   "file_extension": ".py",
   "mimetype": "text/x-python",
   "name": "python",
   "nbconvert_exporter": "python",
   "pygments_lexer": "ipython3",
   "version": "3.8.10"
  }
 },
 "nbformat": 4,
 "nbformat_minor": 5
}
