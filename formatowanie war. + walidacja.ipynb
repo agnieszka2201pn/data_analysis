{
 "cells": [
  {
   "cell_type": "code",
   "execution_count": 46,
   "id": "e4732a82",
   "metadata": {},
   "outputs": [
    {
     "data": {
      "text/html": [
       "<div>\n",
       "<style scoped>\n",
       "    .dataframe tbody tr th:only-of-type {\n",
       "        vertical-align: middle;\n",
       "    }\n",
       "\n",
       "    .dataframe tbody tr th {\n",
       "        vertical-align: top;\n",
       "    }\n",
       "\n",
       "    .dataframe thead th {\n",
       "        text-align: right;\n",
       "    }\n",
       "</style>\n",
       "<table border=\"1\" class=\"dataframe\">\n",
       "  <thead>\n",
       "    <tr style=\"text-align: right;\">\n",
       "      <th></th>\n",
       "      <th>A</th>\n",
       "      <th>B</th>\n",
       "      <th>C</th>\n",
       "    </tr>\n",
       "  </thead>\n",
       "  <tbody>\n",
       "    <tr>\n",
       "      <th>1</th>\n",
       "      <td>0</td>\n",
       "      <td>0</td>\n",
       "      <td>0</td>\n",
       "    </tr>\n",
       "    <tr>\n",
       "      <th>2</th>\n",
       "      <td>1</td>\n",
       "      <td>10</td>\n",
       "      <td>100</td>\n",
       "    </tr>\n",
       "    <tr>\n",
       "      <th>3</th>\n",
       "      <td>2</td>\n",
       "      <td>20</td>\n",
       "      <td>200</td>\n",
       "    </tr>\n",
       "    <tr>\n",
       "      <th>4</th>\n",
       "      <td>3</td>\n",
       "      <td>30</td>\n",
       "      <td>300</td>\n",
       "    </tr>\n",
       "    <tr>\n",
       "      <th>5</th>\n",
       "      <td>4</td>\n",
       "      <td>40</td>\n",
       "      <td>400</td>\n",
       "    </tr>\n",
       "    <tr>\n",
       "      <th>6</th>\n",
       "      <td>5</td>\n",
       "      <td>50</td>\n",
       "      <td>500</td>\n",
       "    </tr>\n",
       "  </tbody>\n",
       "</table>\n",
       "</div>"
      ],
      "text/plain": [
       "   A   B    C\n",
       "1  0   0    0\n",
       "2  1  10  100\n",
       "3  2  20  200\n",
       "4  3  30  300\n",
       "5  4  40  400\n",
       "6  5  50  500"
      ]
     },
     "execution_count": 46,
     "metadata": {},
     "output_type": "execute_result"
    }
   ],
   "source": [
    "import pandas as pd\n",
    "\n",
    "df = pd.DataFrame({'A': [0,1,2,3,4,5], 'B':[0, 10,20,30,40,50], \n",
    "                    'C': [0, 100,200, 300, 400, 500]}, index = [1,2,3,4,5,6])\n",
    "df"
   ]
  },
  {
   "cell_type": "code",
   "execution_count": 47,
   "id": "b2890400",
   "metadata": {},
   "outputs": [],
   "source": [
    "writer = pd.ExcelWriter('conditional_format.xlsx', engine ='xlsxwriter')\n",
    "df.to_excel(writer, sheet_name = 'my_conditional', index = False)\n",
    "workbook = writer.book\n",
    "worksheet = writer.sheets['my_conditional']"
   ]
  },
  {
   "cell_type": "code",
   "execution_count": 48,
   "id": "cf3e2c1d",
   "metadata": {},
   "outputs": [],
   "source": [
    "format1 = workbook.add_format({'bg_color':   '#FFC7CE',\n",
    "                               'font_color': '#9C0006'})"
   ]
  },
  {
   "cell_type": "code",
   "execution_count": 49,
   "id": "edc8fda7",
   "metadata": {},
   "outputs": [
    {
     "data": {
      "text/plain": [
       "0"
      ]
     },
     "execution_count": 49,
     "metadata": {},
     "output_type": "execute_result"
    }
   ],
   "source": [
    "worksheet.conditional_format('B2:B7', {'type': 'cell',\n",
    "                                        'criteria': '>=',\n",
    "                                       'value':50, \n",
    "                                      'format': format1})"
   ]
  },
  {
   "cell_type": "code",
   "execution_count": 50,
   "id": "6e9f0618",
   "metadata": {},
   "outputs": [
    {
     "data": {
      "text/plain": [
       "0"
      ]
     },
     "execution_count": 50,
     "metadata": {},
     "output_type": "execute_result"
    }
   ],
   "source": [
    "worksheet.write_string('A16', 'Podaj liczbę całkowitą większą od zera:')\n",
    "worksheet.data_validation('B16', {\n",
    "    'validate' : 'integer',\n",
    "    'criteria': '>',\n",
    "    'value' : 0\n",
    "})\n",
    "worksheet.set_column('A:A', 35)"
   ]
  },
  {
   "cell_type": "code",
   "execution_count": 51,
   "id": "f80c3e27",
   "metadata": {},
   "outputs": [
    {
     "name": "stderr",
     "output_type": "stream",
     "text": [
      "/home/agnieszka/.local/lib/python3.8/site-packages/xlsxwriter/workbook.py:339: UserWarning: Calling close() on already closed file.\n",
      "  warn(\"Calling close() on already closed file.\")\n"
     ]
    }
   ],
   "source": [
    "writer.save()\n",
    "workbook.close()"
   ]
  },
  {
   "cell_type": "code",
   "execution_count": null,
   "id": "1cc0d234",
   "metadata": {},
   "outputs": [],
   "source": []
  },
  {
   "cell_type": "code",
   "execution_count": null,
   "id": "a0f687a3",
   "metadata": {},
   "outputs": [],
   "source": []
  }
 ],
 "metadata": {
  "kernelspec": {
   "display_name": "Python 3",
   "language": "python",
   "name": "python3"
  },
  "language_info": {
   "codemirror_mode": {
    "name": "ipython",
    "version": 3
   },
   "file_extension": ".py",
   "mimetype": "text/x-python",
   "name": "python",
   "nbconvert_exporter": "python",
   "pygments_lexer": "ipython3",
   "version": "3.8.10"
  }
 },
 "nbformat": 4,
 "nbformat_minor": 5
}
